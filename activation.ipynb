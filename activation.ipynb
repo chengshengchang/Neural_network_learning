{
 "cells": [
  {
   "cell_type": "code",
   "execution_count": 3,
   "metadata": {},
   "outputs": [],
   "source": [
    "import torch\n",
    "import torch.nn.functional as F\n",
    "from torch.autograd import Variable\n",
    "import matplotlib.pyplot as plt\n",
    "\n",
    "\n",
    "# Fake data [linsapce 從-5 to 5 切200點]\n",
    "x = torch.linspace(-5,5,200)\n",
    "# 放到 Variable 籃子裡面\n",
    "x = Variable(x)\n",
    "# matplot 必須用 numpy datatype才能畫出\n",
    "x_np = x.data.numpy()\n",
    "\n",
    "# 利用 torch function .data.numpy() 轉換成 numpy 格式\n",
    "y_relu = F.relu(x).data.numpy()\n",
    "y_sigmoid = F.relu(x).data.numpy()\n",
    "y_tanh = F.relu(x).data.numpy()\n",
    "y_softplus = F.relu(x).data.numpy()\n",
    "\n"
   ]
  }
 ],
 "metadata": {
  "kernelspec": {
   "display_name": "Python 3.9.13 ('torch')",
   "language": "python",
   "name": "python3"
  },
  "language_info": {
   "codemirror_mode": {
    "name": "ipython",
    "version": 3
   },
   "file_extension": ".py",
   "mimetype": "text/x-python",
   "name": "python",
   "nbconvert_exporter": "python",
   "pygments_lexer": "ipython3",
   "version": "3.9.13"
  },
  "orig_nbformat": 4,
  "vscode": {
   "interpreter": {
    "hash": "d7ff03e8f717581f4d2be2080033f8219cf68bd655ee8df80f9e504f30ffcd41"
   }
  }
 },
 "nbformat": 4,
 "nbformat_minor": 2
}
