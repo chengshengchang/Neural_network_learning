{
 "cells": [
  {
   "cell_type": "markdown",
   "metadata": {},
   "source": [
    "## Convolutional neural network \n",
    "- >Image classification\n",
    "    -  split traindata and testdata\n",
    "    -  transform PIL to tensor [255] -> [0-1]\n",
    "    -  normalize tensor [0-1] -> [-1-1]\n",
    "    -  put train/test data to Dataloader(shuffle,batch_size,num_workers) respectively\n"
   ]
  },
  {
   "cell_type": "markdown",
   "metadata": {},
   "source": [
    "### Import libraries"
   ]
  },
  {
   "cell_type": "code",
   "execution_count": 1,
   "metadata": {},
   "outputs": [],
   "source": [
    "import torch \n",
    "import torch.nn as nn                 # Activation Funciton , Algo\n",
    "from torch.autograd import Variable   \n",
    "import torch.utils.data as Data       # Data loader \n",
    "import torchvision                    # Download dataset\n",
    "import matplotlib.pyplot as plt "
   ]
  },
  {
   "cell_type": "markdown",
   "metadata": {},
   "source": [
    "### Main program"
   ]
  },
  {
   "cell_type": "code",
   "execution_count": 2,
   "metadata": {},
   "outputs": [],
   "source": [
    "# Hyper parameters\n",
    "EPOCH = 1\n",
    "LR = 0.001\n",
    "BATCH_SIZE = 50\n",
    "DOWNLOAD_CIFAR10 = False\n",
    "\n",
    "\n",
    "train_dataset = torchvision.datasets.CIFAR10(\n",
    "    root = \"./CIFAR10\",\n",
    "    train = True,\n",
    "    # torchvision ToTensor() 把 pixel to tensor [255] 轉換成 [0 - 1] 區間 \n",
    "    # torchvision.transforms.Normalize (mean , std) 把 tensor [0-1] 轉換成 [-1 - 1] 區間做標準化 使模型更快收斂\n",
    "    transform = torchvision.transforms.Compose([torchvision.transforms.Resize([28,28]),torchvision.transforms.ToTensor(),torchvision.transforms.Normalize((0.5, 0.5, 0.5), (0.5, 0.5, 0.5))]),  # RGB(pixel) [0-255] -> Tensor [0-1]\n",
    "    download = DOWNLOAD_CIFAR10,\n",
    "    )\n",
    "test_dataset = torchvision.datasets.CIFAR10(\n",
    "    root = \"./CIFAR10\",\n",
    "    train = False,\n",
    "    transform = torchvision.transforms.Compose([torchvision.transforms.Resize([28,28]),torchvision.transforms.ToTensor(),torchvision.transforms.Normalize((0.5, 0.5, 0.5), (0.5, 0.5, 0.5))]),\n",
    "    download = DOWNLOAD_CIFAR10,\n",
    ")\n",
    "\n",
    "train_dataloader = Data.DataLoader(\n",
    "    dataset = train_dataset,\n",
    "    batch_size = BATCH_SIZE,\n",
    "    shuffle = True , \n",
    "    num_workers = 2 \n",
    ")\n",
    "\n",
    "test_dataloader = Data.DataLoader(\n",
    "    dataset = test_dataset,\n",
    "    batch_size = BATCH_SIZE,\n",
    "    num_workers = 2,\n",
    "    shuffle = True\n",
    ")\n",
    "\n",
    "classes = ('plane', 'car', 'bird', 'cat',\n",
    "           'deer', 'dog', 'frog', 'horse', 'ship', 'truck')\n",
    "\n"
   ]
  },
  {
   "cell_type": "markdown",
   "metadata": {},
   "source": [
    "### CNN \n",
    "- >conv1 (Conv2d , ReLU , Maxpool)    [n , 3 , 28 ,28]\n",
    "- >conv2 (Conv2d , ReLU , Maxpool)    [n , 3 , 28 ,28]\n",
    "- >output \n",
    "    "
   ]
  },
  {
   "cell_type": "code",
   "execution_count": 35,
   "metadata": {},
   "outputs": [
    {
     "name": "stdout",
     "output_type": "stream",
     "text": [
      "CNN(\n",
      "  (conv1): Sequential(\n",
      "    (0): Conv2d(3, 16, kernel_size=(5, 5), stride=(1, 1), padding=(2, 2))\n",
      "    (1): ReLU()\n",
      "    (2): MaxPool2d(kernel_size=2, stride=2, padding=0, dilation=1, ceil_mode=False)\n",
      "  )\n",
      "  (conv2): Sequential(\n",
      "    (0): Conv2d(16, 32, kernel_size=(5, 5), stride=(1, 1), padding=(2, 2))\n",
      "    (1): ReLU()\n",
      "    (2): MaxPool2d(kernel_size=2, stride=2, padding=0, dilation=1, ceil_mode=False)\n",
      "  )\n",
      "  (out): Linear(in_features=1568, out_features=10, bias=True)\n",
      ")\n"
     ]
    }
   ],
   "source": [
    "class CNN(nn.Module):\n",
    "    def __init__(self,num_classes:int) -> None:\n",
    "        super(CNN,self).__init__()\n",
    "        self.num_classes = num_classes\n",
    "        # 第一層卷積層 aka 過濾器\n",
    "        self.conv1 = nn.Sequential(\n",
    "            # 維度 [ BATCH , 3高(RGB) , 28長 , 28寬]\n",
    "            nn.Conv2d( \n",
    "                in_channels = 3,      # RGB = 3 , 黑白圖片（灰） = 1                   , 圖片進來的高度\n",
    "                out_channels = 16,    # 在同一個過濾器上有幾個再細分成16個 提取16個特徵     , 圖片輸出的高度\n",
    "                kernel_size = 5,      # 掃描區域 5 個像素點 \n",
    "                stride = 1,           # 掃描一次窗口移動幾個 pixel  \n",
    "                padding = 2,          # 圍裙 在圖片多出來的地方可作特徵收集   , padding = (kernal_size -1) / 2 = (5-1)/2\n",
    "            ),\n",
    "            # 維度 [ BATCH , 16高(RGB) , 28長 , 28寬]                     \n",
    "            nn.ReLU(),\n",
    "            # 維度 [ BATCH , 16高(RGB) , 14長 , 14寬]\n",
    "            nn.MaxPool2d(2)         # 選擇特徵 ex: 最大值 ,以 2x2 kernal size 篩選特徵\n",
    "        )   \n",
    "            # 維度 [ BATCH , 16高 , 14長 , 14寬]\n",
    "        self.conv2 = nn.Sequential(\n",
    "            nn.Conv2d(16,32,5,1,2),   # 維度 [ BATCH , 32高(RGB) , 14 , 14]\n",
    "            nn.ReLU(),                # 維度 [ BATCH , 32高(RGB) , 14 , 14]\n",
    "            nn.MaxPool2d(2)           # 維度 [ BATCH , 32高(RGB) , 7 , 7]\n",
    "        )\n",
    "        self.out = nn.Linear(32 * 7 * 7 , 10)   #(維度,label數量) == (input , output)\n",
    "    \n",
    "    def forward(self,x):\n",
    "        x = self.conv1(x)\n",
    "        x = self.conv2(x)             # (batch - > 32 ,7 ,7)\n",
    "        # 轉換成 2d array \n",
    "        x = x.view(x.size(0), -1)     # 數據展平 ( batch , 32 * 7 * 7)   , x.size(0) == batch_size\n",
    "        # 數據展平之後 -> 2d array 才能進入 ouput layer\n",
    "        output = self.out(x)\n",
    "\n",
    "        return output\n",
    "\n",
    "cnn = CNN(len(classes))\n",
    "print(cnn)"
   ]
  },
  {
   "cell_type": "markdown",
   "metadata": {},
   "source": [
    "### Training"
   ]
  },
  {
   "cell_type": "code",
   "execution_count": 36,
   "metadata": {},
   "outputs": [
    {
     "name": "stdout",
     "output_type": "stream",
     "text": [
      "Epoch: 1 | Step: 0 | Loss: 2.298053503036499\n",
      "Epoch: 1 | Step: 100 | Loss: 1.7587240934371948\n",
      "Epoch: 1 | Step: 200 | Loss: 1.36772882938385\n",
      "Epoch: 1 | Step: 300 | Loss: 1.5020583868026733\n",
      "Epoch: 1 | Step: 400 | Loss: 1.4992878437042236\n",
      "Epoch: 1 | Step: 500 | Loss: 1.5369389057159424\n",
      "Epoch: 1 | Step: 600 | Loss: 1.3677856922149658\n",
      "Epoch: 1 | Step: 700 | Loss: 1.3148845434188843\n",
      "Epoch: 1 | Step: 800 | Loss: 1.1728345155715942\n",
      "Epoch: 1 | Step: 900 | Loss: 1.2440508604049683\n"
     ]
    }
   ],
   "source": [
    "optimizer = torch.optim.Adam(cnn.parameters() , lr=LR)\n",
    "loss_func = nn.CrossEntropyLoss() # for label model \n",
    "\n",
    "\n",
    "# Training and testing \n",
    "for epoch in range(EPOCH):\n",
    "    for step , (x,y) in enumerate(train_dataloader):\n",
    "        b_x = Variable(x)\n",
    "        b_y = Variable(y)\n",
    "\n",
    "        output = cnn(b_x)\n",
    "        loss = loss_func(output ,b_y)\n",
    "        optimizer.zero_grad()\n",
    "        loss.backward()\n",
    "        optimizer.step()\n",
    "        if step % 100 == 0:\n",
    "             print('Epoch: {} | Step: {} | Loss: {}'.format(epoch + 1, step, loss))"
   ]
  },
  {
   "cell_type": "code",
   "execution_count": null,
   "metadata": {},
   "outputs": [],
   "source": []
  }
 ],
 "metadata": {
  "kernelspec": {
   "display_name": "Python 3.9.13 ('torch')",
   "language": "python",
   "name": "python3"
  },
  "language_info": {
   "codemirror_mode": {
    "name": "ipython",
    "version": 3
   },
   "file_extension": ".py",
   "mimetype": "text/x-python",
   "name": "python",
   "nbconvert_exporter": "python",
   "pygments_lexer": "ipython3",
   "version": "3.9.13"
  },
  "orig_nbformat": 4,
  "vscode": {
   "interpreter": {
    "hash": "d7ff03e8f717581f4d2be2080033f8219cf68bd655ee8df80f9e504f30ffcd41"
   }
  }
 },
 "nbformat": 4,
 "nbformat_minor": 2
}
