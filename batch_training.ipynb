{
 "cells": [
  {
   "cell_type": "markdown",
   "metadata": {},
   "source": [
    "## Batch training (批次訓練)\n",
    "\n",
    "        - 數據過大、資料太多\n",
    "        \n",
    "        - 提升訓練速度"
   ]
  },
  {
   "cell_type": "markdown",
   "metadata": {},
   "source": [
    "### Import libraries"
   ]
  },
  {
   "cell_type": "code",
   "execution_count": 2,
   "metadata": {},
   "outputs": [],
   "source": [
    "import torch \n",
    "import torch.utils.data as Data  # Batch training libraries"
   ]
  },
  {
   "cell_type": "markdown",
   "metadata": {},
   "source": [
    "### Main program\n",
    "\n",
    "        - Epoch : 整理訓練資料/期數 算一次\n",
    "\n",
    "        - Batch size : 將資料拆分成多少\n",
    "\n",
    "        - Shuffle : 打亂\n",
    "\n",
    "        - num_workers : dataloader 一次性創建 num_worker的worker數量，並用 Batch_sampler將指定 Batch加載至RAM，然後\n",
    "                        Dataloader 去RAM找本輪要迭代的目標BATCH."
   ]
  },
  {
   "cell_type": "code",
   "execution_count": 14,
   "metadata": {},
   "outputs": [
    {
     "name": "stdout",
     "output_type": "stream",
     "text": [
      "Epoch: 0 | step: 0 | batch x: [1. 2. 5. 9. 3.]  batch_y: [10.  9.  6.  2.  8.]\n",
      "Epoch: 0 | step: 1 | batch x: [10.  7.  8.  6.  4.]  batch_y: [1. 4. 3. 5. 7.]\n",
      "Epoch: 1 | step: 0 | batch x: [7. 2. 9. 5. 1.]  batch_y: [ 4.  9.  2.  6. 10.]\n",
      "Epoch: 1 | step: 1 | batch x: [ 3.  8. 10.  6.  4.]  batch_y: [8. 3. 1. 5. 7.]\n",
      "Epoch: 2 | step: 0 | batch x: [ 4.  6.  7. 10.  5.]  batch_y: [7. 5. 4. 1. 6.]\n",
      "Epoch: 2 | step: 1 | batch x: [3. 8. 9. 2. 1.]  batch_y: [ 8.  3.  2.  9. 10.]\n"
     ]
    }
   ],
   "source": [
    "BATCH_SIZE = 5\n",
    "\n",
    "x = torch.linspace(1, 10, 10)          # x data  (torch tensor)\n",
    "y = torch.linspace(10 ,1 ,10)          # y data  (torch tensor)\n",
    "\n",
    "# Datasets (data ,target ) (torch tensor)\n",
    "torch_dataset = Data.TensorDataset(x,y)\n",
    "# Loader (make our data to be batch)\n",
    "loader = Data.DataLoader(\n",
    "    dataset=torch_dataset,\n",
    "    batch_size=BATCH_SIZE,\n",
    "    shuffle=True,\n",
    "    num_workers=2\n",
    ")\n",
    "\n",
    "for epoch in range(3):  \n",
    "    for step , (batch_x, batch_y) in enumerate(loader):\n",
    "        # Training (batch_x , batch_y -> numpy)\n",
    "        print('Epoch:' , epoch ,'| step:' , step , '| batch x:' , batch_x.numpy() ,' batch_y:' , batch_y.numpy())\n",
    "        \n",
    "\n"
   ]
  },
  {
   "cell_type": "code",
   "execution_count": null,
   "metadata": {},
   "outputs": [],
   "source": []
  }
 ],
 "metadata": {
  "kernelspec": {
   "display_name": "Python 3.9.13 ('torch')",
   "language": "python",
   "name": "python3"
  },
  "language_info": {
   "codemirror_mode": {
    "name": "ipython",
    "version": 3
   },
   "file_extension": ".py",
   "mimetype": "text/x-python",
   "name": "python",
   "nbconvert_exporter": "python",
   "pygments_lexer": "ipython3",
   "version": "3.9.13"
  },
  "orig_nbformat": 4,
  "vscode": {
   "interpreter": {
    "hash": "d7ff03e8f717581f4d2be2080033f8219cf68bd655ee8df80f9e504f30ffcd41"
   }
  }
 },
 "nbformat": 4,
 "nbformat_minor": 2
}
