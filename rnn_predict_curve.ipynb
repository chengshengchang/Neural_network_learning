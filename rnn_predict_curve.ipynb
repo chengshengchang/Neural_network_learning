{
 "cells": [
  {
   "cell_type": "markdown",
   "metadata": {},
   "source": [
    "## Predict curve in the specific time \n",
    "    - using RNN model"
   ]
  },
  {
   "cell_type": "markdown",
   "metadata": {},
   "source": [
    "### Import libraries"
   ]
  },
  {
   "cell_type": "code",
   "execution_count": 49,
   "metadata": {},
   "outputs": [],
   "source": [
    "import torch\n",
    "import torchvision\n",
    "import torch.nn as nn                        # Activation Funciton , Algo\n",
    "from torch.autograd import Variable\n",
    "import torchvision.datasets as dsets\n",
    "import torchvision.transforms as transforms\n",
    "import torch.utils.data as Data              # Data loader \n",
    "import numpy as np"
   ]
  },
  {
   "cell_type": "markdown",
   "metadata": {},
   "source": [
    "### Sample data\n",
    "\n",
    "    - [b , time_step , input_size] -> [b , 50 , 1]"
   ]
  },
  {
   "cell_type": "code",
   "execution_count": 61,
   "metadata": {},
   "outputs": [],
   "source": [
    "num_timestep = 50                                                   # 預測多長時間的數據 if 50 , 0-49 , 然後預測 1-50 , 每個時間點有50個數據\n",
    "input_size = 1\n",
    "hidden_size = 10\n",
    "\n",
    "start = np.random.randint(3 , size=1 )[0]                           # random pick number from 0-2\n",
    "time_step = np.linspace(start , start + 10 ,num_timestep )          # time_step 固定頭尾 if start = 1 , end = 11\n",
    "data = np.sin(time_step)\n",
    "data = data.reshape(num_timestep , 1)                               # data 維度 -> [50 , 1]\n",
    "x = torch.tensor(data[:-1]).float().view(1 , num_timestep -1 , 1)   # x 維度 -> [1 , 49 , 1]\n",
    "y = torch.tensor(data[1:]).float().view(1 , num_timestep -1 , 1)\n"
   ]
  },
  {
   "cell_type": "markdown",
   "metadata": {},
   "source": [
    "### Build network"
   ]
  },
  {
   "cell_type": "code",
   "execution_count": 56,
   "metadata": {},
   "outputs": [],
   "source": [
    "class RNN(nn.Module):\n",
    "    def __init__(self , ):\n",
    "        super(RNN , self).__init__()\n",
    "\n",
    "        self.rnn = nn.RNN(\n",
    "            input_size = input_size,\n",
    "            hidden_size = hidden_size,\n",
    "            num_layers = 1 ,           # 多少層的 hidden layer\n",
    "            batch_first = True   \n",
    "        )\n",
    "\n",
    "        self.out = nn.Linear(hidden_size , 1)\n",
    "\n",
    "    # hidden_prev -> h0 傳進來的 hidden 狀態\n",
    "    def forward(self ,x , hidden_prev):\n",
    "        # out dim -> [b , time_step , hidden_size]\n",
    "        # h   dim -> [b , num_layer , hidden_size]\n",
    "        out , hidden_prev = self.rnn(x , hidden_prev)\n",
    "        # [1 , seq , h] -> [seq , h]\n",
    "        out = out.view(-1 , hidden_size)\n",
    "        # [seq , h] -> [seq , 1]\n",
    "        out = self.out(out)\n",
    "        # 插入一個維度 維度要跟 y 相同  [1 , seq , 1] => [batch , seq , out]\n",
    "        out = out.unsqueeze(dim=0)\n",
    "\n",
    "        return out , hidden_prev\n",
    "\n",
    "\n",
    "        \n"
   ]
  },
  {
   "cell_type": "markdown",
   "metadata": {},
   "source": [
    "### Train"
   ]
  },
  {
   "cell_type": "code",
   "execution_count": 59,
   "metadata": {},
   "outputs": [
    {
     "data": {
      "text/plain": [
       "RNN(\n",
       "  (rnn): RNN(1, 10, batch_first=True)\n",
       "  (out): Linear(in_features=10, out_features=1, bias=True)\n",
       ")"
      ]
     },
     "execution_count": 59,
     "metadata": {},
     "output_type": "execute_result"
    }
   ],
   "source": [
    "model = RNN()\n",
    "criterion = nn.MSELoss()\n",
    "optimizer = torch.optim.Adam(model.parameters() , lr=0.1)\n",
    "\n",
    "\n",
    "# h0 => [ batch , num_layer , hidden_size]\n",
    "hidden_prev = torch.zeros(1,1,hidden_size)\n",
    "\n",
    "for iter in range(100):\n",
    "    start = np.random.randint(10, size=1 )[0]                           # random pick number from 0-2\n",
    "    time_step = np.linspace(start , start + 10 ,num_timestep )          # time_step 固定頭尾 if start = 1 , end = 11\n",
    "    data = np.sin(time_step)\n",
    "    data = data.reshape(num_timestep , 1)                               # data 維度 -> [50 , 1]\n",
    "    x = torch.tensor(data[:-1]).float().view(1 , num_timestep -1 , 1)   # x 維度 -> [1 , 49 , 1]\n",
    "    y = torch.tensor(data[1:]).float().view(1 , num_timestep -1 , 1)\n",
    "\n",
    "\n",
    "    output , hidden_prev = model(x , hidden_prev)\n",
    "    hidden_prev = hidden_prev.detach()\n",
    "\n",
    "    loss = criterion(output , y)\n",
    "    model.zero_grad()\n",
    "    loss.backward()\n",
    "    optimizer.step()"
   ]
  },
  {
   "cell_type": "code",
   "execution_count": null,
   "metadata": {},
   "outputs": [],
   "source": []
  }
 ],
 "metadata": {
  "kernelspec": {
   "display_name": "Python 3.9.13 ('torch')",
   "language": "python",
   "name": "python3"
  },
  "language_info": {
   "codemirror_mode": {
    "name": "ipython",
    "version": 3
   },
   "file_extension": ".py",
   "mimetype": "text/x-python",
   "name": "python",
   "nbconvert_exporter": "python",
   "pygments_lexer": "ipython3",
   "version": "3.9.13"
  },
  "orig_nbformat": 4,
  "vscode": {
   "interpreter": {
    "hash": "d7ff03e8f717581f4d2be2080033f8219cf68bd655ee8df80f9e504f30ffcd41"
   }
  }
 },
 "nbformat": 4,
 "nbformat_minor": 2
}
