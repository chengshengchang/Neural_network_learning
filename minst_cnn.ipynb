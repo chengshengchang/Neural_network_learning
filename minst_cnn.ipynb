{
 "cells": [
  {
   "cell_type": "markdown",
   "metadata": {},
   "source": [
    "## Convolutional neural network \n",
    "- >Image classification\n",
    "    -  split traindata and testdata\n",
    "    -  normalize tensor [0-1] -> [-1-1]\n",
    "    -  put train/test data to Dataloader(shuffle,batch_size,num_workers) respectively\n"
   ]
  },
  {
   "cell_type": "markdown",
   "metadata": {},
   "source": [
    "### Import libraries"
   ]
  },
  {
   "cell_type": "code",
   "execution_count": 59,
   "metadata": {},
   "outputs": [],
   "source": [
    "import torch \n",
    "import torch.nn as nn                                          # Activation Funciton , Algo\n",
    "from torch.autograd import Variable   \n",
    "import torch.utils.data as Data                                # Data loader \n",
    "from torchvision import datasets , transforms                  # Download dataset\n",
    "import matplotlib.pyplot as plt \n",
    "from timer import timing\n",
    "import numpy as nps"
   ]
  },
  {
   "cell_type": "markdown",
   "metadata": {},
   "source": [
    "### Hyper Parameters\n",
    "- > input image dim  [28,28,1]\n"
   ]
  },
  {
   "cell_type": "code",
   "execution_count": 66,
   "metadata": {},
   "outputs": [],
   "source": [
    "INPUT_SIZE = 28   # 圖像尺寸 28x28x1\n",
    "NUM_CLASSES = 10  # 10 分類數據\n",
    "NUM_EPOCH = 50     # 訓練期數\n",
    "BATCH_SIZE = 64   # 一次訓練 64 張圖片\n",
    "LR = 0.01"
   ]
  },
  {
   "cell_type": "markdown",
   "metadata": {},
   "source": [
    "### Dataset , DataLoader\n",
    "- > dataset is wrapped by dataloader \n",
    "- > data dimension -> [ batch , 28  , 28 , 1 ]"
   ]
  },
  {
   "cell_type": "code",
   "execution_count": 65,
   "metadata": {},
   "outputs": [],
   "source": [
    "\n",
    "train_dataset = datasets.MNIST(\n",
    "    root = \"./dataset/mnist\",\n",
    "    train = True,\n",
    "    download = False,\n",
    "    transform = transforms.ToTensor()\n",
    ")\n",
    "test_dataset = datasets.MNIST(\n",
    "    root = \"./dataset/mnist\",\n",
    "    train = False,\n",
    "    download = False,\n",
    "    transform = transforms.ToTensor()\n",
    ")\n",
    "\n",
    "train_dataloader = Data.DataLoader(\n",
    "    dataset = train_dataset,\n",
    "    batch_size = BATCH_SIZE,\n",
    "    shuffle = True , \n",
    "    num_workers = 2 \n",
    ")\n",
    "\n",
    "test_dataloader = Data.DataLoader(\n",
    "    dataset = test_dataset,\n",
    "    batch_size = BATCH_SIZE,\n",
    "    num_workers = 2,\n",
    "    shuffle = True\n",
    ")\n",
    "\n"
   ]
  },
  {
   "cell_type": "markdown",
   "metadata": {},
   "source": [
    "### CNN \n",
    "- >conv1 (Conv2d , ReLU , Maxpool)    [Batch , 3 , 28 ,28]\n",
    "- >conv2 (Conv2d , ReLU , Maxpool)    [Batch , 3 , 28 ,28]\n",
    "- >output \n",
    "    "
   ]
  },
  {
   "cell_type": "code",
   "execution_count": 67,
   "metadata": {},
   "outputs": [
    {
     "data": {
      "text/plain": [
       "CNN(\n",
       "  (conv1): Sequential(\n",
       "    (0): Conv2d(1, 16, kernel_size=(5, 5), stride=(1, 1), padding=(2, 2))\n",
       "    (1): ReLU()\n",
       "    (2): MaxPool2d(kernel_size=2, stride=2, padding=0, dilation=1, ceil_mode=False)\n",
       "  )\n",
       "  (conv2): Sequential(\n",
       "    (0): Conv2d(16, 64, kernel_size=(5, 5), stride=(1, 1), padding=(2, 2))\n",
       "    (1): ReLU()\n",
       "    (2): MaxPool2d(kernel_size=2, stride=2, padding=0, dilation=1, ceil_mode=False)\n",
       "  )\n",
       "  (out): Linear(in_features=3136, out_features=10, bias=True)\n",
       ")"
      ]
     },
     "execution_count": 67,
     "metadata": {},
     "output_type": "execute_result"
    }
   ],
   "source": [
    "class CNN(nn.Module):\n",
    "    def __init__(self) -> None:\n",
    "        super().__init__()\n",
    "        self.conv1 = nn.Sequential(   \n",
    "            nn.Conv2d(\n",
    "                in_channels= 1,\n",
    "                out_channels= 16,           \n",
    "                kernel_size= 5,                 \n",
    "                stride= 1,\n",
    "                padding= 2\n",
    "            ),\n",
    "            nn.ReLU(),\n",
    "            nn.MaxPool2d(kernel_size=2)     \n",
    "        )\n",
    "        self.conv2 = nn.Sequential(\n",
    "            nn.Conv2d(16,64,5,1,2),       \n",
    "            nn.ReLU(),\n",
    "            nn.MaxPool2d(2)     \n",
    "        )\n",
    "        self.out = nn.Linear(64 * 7 * 7 , 10)\n",
    "\n",
    "    def forward(self , x):\n",
    "        x = self.conv1(x)\n",
    "        x = self.conv2(x)\n",
    "        x = x.view(x.size(0) , -1)\n",
    "        output = self.out(x)\n",
    "        return output\n",
    "\n",
    "CNN = CNN()\n",
    "CNN"
   ]
  },
  {
   "cell_type": "code",
   "execution_count": 29,
   "metadata": {},
   "outputs": [
    {
     "name": "stdout",
     "output_type": "stream",
     "text": [
      "tensor([[0.0489, 0.0442, 0.4496],\n",
      "        [0.7964, 0.2530, 0.3539],\n",
      "        [0.7345, 0.9997, 0.2411]])\n",
      "----------------------------------------------------------------------------------------------------\n",
      "tensor([2, 0, 1])\n"
     ]
    }
   ],
   "source": [
    "a  = torch.rand(3,3)\n",
    "print(a)\n",
    "print('-'*100)\n",
    "b = torch.max(a,1)[1]\n",
    "print(b)"
   ]
  },
  {
   "cell_type": "code",
   "execution_count": 32,
   "metadata": {},
   "outputs": [
    {
     "data": {
      "text/plain": [
       "tensor(3)"
      ]
     },
     "execution_count": 32,
     "metadata": {},
     "output_type": "execute_result"
    }
   ],
   "source": [
    "x = torch.tensor([[1,2],[3,4]])\n",
    "y = torch.tensor([[1,2],[3,3]])\n",
    "ans = torch.eq(x,y).sum()\n",
    "ans"
   ]
  },
  {
   "cell_type": "markdown",
   "metadata": {},
   "source": [
    "### Evaluate accuracy"
   ]
  },
  {
   "cell_type": "code",
   "execution_count": 68,
   "metadata": {},
   "outputs": [],
   "source": [
    "def accuracy_good(predictions, labels):\n",
    "    pred = torch.max(predictions.data , 1)[1]   # 取得 each row 最大值 index[1] => get index\n",
    "    rights = torch.eq(labels.data , pred).sum() # .sum() 只算 Mapping 到 True的部分\n",
    "    return rights/len(labels)*100\n",
    "\n"
   ]
  },
  {
   "cell_type": "markdown",
   "metadata": {},
   "source": [
    "### Training"
   ]
  },
  {
   "cell_type": "code",
   "execution_count": 69,
   "metadata": {},
   "outputs": [
    {
     "name": "stdout",
     "output_type": "stream",
     "text": [
      " EPOCH : 0, AVERAGE ACCURACY => 95.36913299560547\n",
      " EPOCH : 1, AVERAGE ACCURACY => 97.81449890136719\n",
      " EPOCH : 2, AVERAGE ACCURACY => 97.96109008789062\n",
      " EPOCH : 3, AVERAGE ACCURACY => 98.14932250976562\n",
      " EPOCH : 4, AVERAGE ACCURACY => 98.26759338378906\n",
      " EPOCH : 5, AVERAGE ACCURACY => 98.32756042480469\n",
      " EPOCH : 6, AVERAGE ACCURACY => 98.30590057373047\n",
      " EPOCH : 7, AVERAGE ACCURACY => 98.27091979980469\n",
      " EPOCH : 8, AVERAGE ACCURACY => 98.40585327148438\n",
      " EPOCH : 9, AVERAGE ACCURACY => 98.3292236328125\n",
      " EPOCH : 10, AVERAGE ACCURACY => 98.46414947509766\n",
      " EPOCH : 11, AVERAGE ACCURACY => 98.44915771484375\n",
      " EPOCH : 12, AVERAGE ACCURACY => 98.6107406616211\n",
      " EPOCH : 13, AVERAGE ACCURACY => 98.56243133544922\n",
      " EPOCH : 14, AVERAGE ACCURACY => 98.50746154785156\n",
      " EPOCH : 15, AVERAGE ACCURACY => 98.69569396972656\n",
      " EPOCH : 16, AVERAGE ACCURACY => 98.59574890136719\n",
      " EPOCH : 17, AVERAGE ACCURACY => 98.53578186035156\n",
      " EPOCH : 18, AVERAGE ACCURACY => 98.7490005493164\n",
      " EPOCH : 19, AVERAGE ACCURACY => 98.74234008789062\n",
      " EPOCH : 20, AVERAGE ACCURACY => 98.76065826416016\n",
      " EPOCH : 21, AVERAGE ACCURACY => 98.73067474365234\n",
      " EPOCH : 22, AVERAGE ACCURACY => 98.80230712890625\n",
      " EPOCH : 23, AVERAGE ACCURACY => 98.84394836425781\n",
      " EPOCH : 24, AVERAGE ACCURACY => 98.78398132324219\n",
      " EPOCH : 25, AVERAGE ACCURACY => 98.83728790283203\n",
      " EPOCH : 26, AVERAGE ACCURACY => 98.97055053710938\n",
      " EPOCH : 27, AVERAGE ACCURACY => 98.87560272216797\n",
      " EPOCH : 28, AVERAGE ACCURACY => 98.86393737792969\n",
      " EPOCH : 29, AVERAGE ACCURACY => 98.88892364501953\n",
      " EPOCH : 30, AVERAGE ACCURACY => 98.99553680419922\n",
      " EPOCH : 31, AVERAGE ACCURACY => 98.99553680419922\n",
      " EPOCH : 32, AVERAGE ACCURACY => 99.08548736572266\n",
      " EPOCH : 33, AVERAGE ACCURACY => 99.05550384521484\n",
      " EPOCH : 34, AVERAGE ACCURACY => 99.02052307128906\n",
      " EPOCH : 35, AVERAGE ACCURACY => 99.09214782714844\n",
      " EPOCH : 36, AVERAGE ACCURACY => 99.14878845214844\n",
      " EPOCH : 37, AVERAGE ACCURACY => 99.02218627929688\n",
      " EPOCH : 38, AVERAGE ACCURACY => 99.15711975097656\n",
      " EPOCH : 39, AVERAGE ACCURACY => 99.22041320800781\n",
      " EPOCH : 40, AVERAGE ACCURACY => 99.1754379272461\n",
      " EPOCH : 41, AVERAGE ACCURACY => 99.24873352050781\n",
      " EPOCH : 42, AVERAGE ACCURACY => 99.25706481933594\n",
      " EPOCH : 43, AVERAGE ACCURACY => 99.23540496826172\n",
      " EPOCH : 44, AVERAGE ACCURACY => 99.2320785522461\n",
      " EPOCH : 45, AVERAGE ACCURACY => 99.32369232177734\n",
      " EPOCH : 46, AVERAGE ACCURACY => 99.26372528076172\n",
      " EPOCH : 47, AVERAGE ACCURACY => 99.28704833984375\n",
      " EPOCH : 48, AVERAGE ACCURACY => 99.3136978149414\n",
      " EPOCH : 49, AVERAGE ACCURACY => 99.3120346069336\n"
     ]
    }
   ],
   "source": [
    "optimizer = torch.optim.Adam(CNN.parameters() , lr=LR)\n",
    "loss_func = nn.CrossEntropyLoss() # for label model \n",
    "\n",
    "# Training and testing \n",
    "for epoch in range(NUM_EPOCH):\n",
    "    \n",
    "    train_right = []\n",
    "    for step , (data , labels) in enumerate(train_dataloader):\n",
    "        CNN.train()\n",
    "        prediction = CNN(data)\n",
    "        loss = loss_func(prediction , labels)\n",
    "\n",
    "        optimizer.zero_grad()\n",
    "        loss.backward()\n",
    "        optimizer.step()\n",
    "\n",
    "        right = accuracy_good(prediction,labels)\n",
    "        train_right.append(right)\n",
    "\n",
    "    accuracy = nps.average(train_right)\n",
    "    print(f' EPOCH : {epoch}, AVERAGE ACCURACY => {accuracy}')\n"
   ]
  }
 ],
 "metadata": {
  "kernelspec": {
   "display_name": "Python 3.9.13 ('torch')",
   "language": "python",
   "name": "python3"
  },
  "language_info": {
   "codemirror_mode": {
    "name": "ipython",
    "version": 3
   },
   "file_extension": ".py",
   "mimetype": "text/x-python",
   "name": "python",
   "nbconvert_exporter": "python",
   "pygments_lexer": "ipython3",
   "version": "3.9.13"
  },
  "orig_nbformat": 4,
  "vscode": {
   "interpreter": {
    "hash": "d7ff03e8f717581f4d2be2080033f8219cf68bd655ee8df80f9e504f30ffcd41"
   }
  }
 },
 "nbformat": 4,
 "nbformat_minor": 2
}
