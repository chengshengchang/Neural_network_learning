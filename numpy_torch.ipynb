{
 "cells": [
  {
   "cell_type": "code",
   "execution_count": 1,
   "metadata": {},
   "outputs": [],
   "source": [
    "import torch\n",
    "import numpy as np"
   ]
  },
  {
   "cell_type": "code",
   "execution_count": 20,
   "metadata": {},
   "outputs": [
    {
     "name": "stdout",
     "output_type": "stream",
     "text": [
      "\n",
      "numpy_data\n",
      " [[0 1 2]\n",
      " [3 4 5]] \n",
      "torch_data\n",
      " tensor([[0, 1, 2],\n",
      "        [3, 4, 5]])\n"
     ]
    }
   ],
   "source": [
    "from tkinter import N\n",
    "\n",
    "\n",
    "np_data = np.arange(6).reshape((2,3))\n",
    "torch_data = torch.from_numpy(np_data)\n",
    "\n",
    "\n",
    "tensor2numpy = torch_data.numpy()\n",
    "\n"
   ]
  },
  {
   "cell_type": "code",
   "execution_count": 29,
   "metadata": {},
   "outputs": [
    {
     "name": "stdout",
     "output_type": "stream",
     "text": [
      "\n",
      "mean \n",
      "numpy 0.0 \n",
      "tensor tensor(0.)\n"
     ]
    }
   ],
   "source": [
    "# abs\n",
    "data = [-1,-2,1,2]\n",
    "# transfer to float 32bit\n",
    "tensor = torch.FloatTensor(data) \n",
    "\n",
    "\n",
    "print(\n",
    "    '\\nmean',\n",
    "    '\\nnumpy'  , np.mean(data),\n",
    "    '\\ntensor' ,torch.mean(tensor)\n",
    ")"
   ]
  },
  {
   "cell_type": "code",
   "execution_count": 31,
   "metadata": {},
   "outputs": [
    {
     "name": "stdout",
     "output_type": "stream",
     "text": [
      "\n",
      "numpy [[ 7 10]\n",
      " [15 22]] \n",
      "torch tensor([[ 7., 10.],\n",
      "        [15., 22.]])\n"
     ]
    }
   ],
   "source": [
    "data = [[1,2],[3,4]]\n",
    "# transfer to float 32bit\n",
    "tensor = torch.FloatTensor(data)\n",
    "\n",
    "print(\n",
    "    '\\nnumpy' , np.matmul(data,data),\n",
    "    '\\ntorch' , torch.mm(tensor,tensor)\n",
    ")\n",
    "\n"
   ]
  },
  {
   "cell_type": "code",
   "execution_count": 52,
   "metadata": {},
   "outputs": [
    {
     "name": "stdout",
     "output_type": "stream",
     "text": [
      "tensor([[0.5000, 1.0000],\n",
      "        [1.5000, 2.0000]])\n"
     ]
    }
   ],
   "source": [
    "# Variable \n",
    "import torch\n",
    "from torch.autograd import Variable\n",
    "\n",
    "tensor = torch.FloatTensor([[1,2]\n",
    "                           ,[3,4]])\n",
    "\n",
    "variable = Variable(tensor , requires_grad=True )\n",
    "\n",
    "t_out = torch.mean(tensor*tensor)\n",
    "v_out = torch.mean(variable*variable)\n",
    "\n",
    "\n",
    "# 將結果反向傳遞\n",
    "v_out.backward()\n",
    "# Variable 的梯度\n",
    "# 1/4*2*Variable = > 1/2*Variable\n",
    "print(variable.grad)\n",
    "\n"
   ]
  },
  {
   "cell_type": "code",
   "execution_count": 49,
   "metadata": {},
   "outputs": [
    {
     "data": {
      "text/plain": [
       "tensor([[1., 2.],\n",
       "        [3., 4.]], requires_grad=True)"
      ]
     },
     "execution_count": 49,
     "metadata": {},
     "output_type": "execute_result"
    }
   ],
   "source": [
    "variable"
   ]
  },
  {
   "cell_type": "code",
   "execution_count": null,
   "metadata": {},
   "outputs": [],
   "source": []
  }
 ],
 "metadata": {
  "kernelspec": {
   "display_name": "Python 3.9.13 ('torch')",
   "language": "python",
   "name": "python3"
  },
  "language_info": {
   "name": "python",
   "version": "3.9.13"
  },
  "orig_nbformat": 4,
  "vscode": {
   "interpreter": {
    "hash": "d7ff03e8f717581f4d2be2080033f8219cf68bd655ee8df80f9e504f30ffcd41"
   }
  }
 },
 "nbformat": 4,
 "nbformat_minor": 2
}
