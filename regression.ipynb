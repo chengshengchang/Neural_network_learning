{
 "cells": [
  {
   "cell_type": "markdown",
   "metadata": {},
   "source": [
    "# Regression -> Pytorch\n",
    "- Target\n",
    "    1. build up sample RNN (construct layer)\n",
    "    2. optimize RNN "
   ]
  },
  {
   "cell_type": "markdown",
   "metadata": {},
   "source": [
    "### Import libraries"
   ]
  },
  {
   "cell_type": "code",
   "execution_count": 2,
   "metadata": {},
   "outputs": [],
   "source": [
    "import torch\n",
    "from torch.autograd import Variable\n",
    "import torch.nn.functional as F\n",
    "import matplotlib.pyplot as plt"
   ]
  },
  {
   "cell_type": "markdown",
   "metadata": {},
   "source": [
    "### Create mock data and plot"
   ]
  },
  {
   "cell_type": "code",
   "execution_count": 20,
   "metadata": {},
   "outputs": [
    {
     "data": {
      "text/plain": [
       "<matplotlib.collections.PathCollection at 0x15df6fc40>"
      ]
     },
     "execution_count": 20,
     "metadata": {},
     "output_type": "execute_result"
    },
    {
     "data": {
      "image/png": "[encoded data removed]",
      "text/plain": [
       "<Figure size 640x480 with 1 Axes>"
      ]
     },
     "metadata": {},
     "output_type": "display_data"
    }
   ],
   "source": [
    "# torch.unsqueeze 把一維變二維 (因為在torch當中只會處理二維數據)\n",
    "x = torch.unsqueeze(torch.linspace(-1,1,100) , dim=1) # x data (tensor) , shape(100,1)\n",
    "\n",
    "# pow (次方) ＋ noisy point \n",
    "y = x.pow(2) + 0.2*torch.rand(x.size())\n",
    "\n",
    "# 變成 Variable 形式 (神經網絡只能輸入Variable)\n",
    "x , y = Variable(x) , Variable(y)\n",
    "\n",
    "# plt.scatter(x.data.numpy() , y.data.numpy())"
   ]
  },
  {
   "cell_type": "markdown",
   "metadata": {},
   "source": [
    "### Building Regression Neural Network"
   ]
  },
  {
   "cell_type": "code",
   "execution_count": 22,
   "metadata": {},
   "outputs": [
    {
     "name": "stdout",
     "output_type": "stream",
     "text": [
      "Net(\n",
      "  (hidden): Linear(in_features=1, out_features=10, bias=True)\n",
      "  (predict): Linear(in_features=10, out_features=1, bias=True)\n",
      ")\n"
     ]
    }
   ],
   "source": [
    "# Net inherit torch.nn.Module\n",
    "class Net(torch.nn.Module):\n",
    "    # 定義 layer function (hidden)\n",
    "    # n_feature -> 數據個數 , n_hidden -> hidden layer 神經元個數 , n_output -> output個數\n",
    "    def __init__(self , n_feature , n_hidden , n_output):\n",
    "        super(Net,self).__init__()\n",
    "        # define hidden layer -> Linear function (numbers of input , numbers of output)\n",
    "        # hidden layer = function(n_input , n_output)\n",
    "        self.hidden =  torch.nn.Linear(n_feature , n_hidden)\n",
    "        # output layer = function(n_input , n_output)\n",
    "        self.predict = torch.nn.Linear(n_hidden , n_output)\n",
    "\n",
    "    # 向前傳遞 -> 拿Layer來用\n",
    "    # x -> data\n",
    "    def forward(self ,x):\n",
    "        # Activated Function [F.relu] ( hidden layer(x[n_feature]) ) -> n_hidden\n",
    "        x = F.relu(self.hidden(x))\n",
    "        # self.predict(x[n_hidden]) -> n_output\n",
    "        x = self.predict(x)\n",
    "        return x     \n",
    "\n",
    "net = Net(1,10,1)\n",
    "print(net)\n"
   ]
  },
  {
   "cell_type": "markdown",
   "metadata": {},
   "source": [
    "### Optimize Neural Network "
   ]
  },
  {
   "cell_type": "code",
   "execution_count": null,
   "metadata": {},
   "outputs": [],
   "source": [
    "# torch.optim.{optimizer}({parameter})\n",
    "# 優化神經網絡參數 -> 傳入神經網絡參數 , learning_rate \n",
    "optimizer = torch.optim.SGD(net.parameters() , lr=0.5)\n",
    "\n",
    "# loss_function (MSE regression problem)\n",
    "loss_func = torch.nn.MSELoss()\n",
    "\n",
    "\n",
    "for t in range(100):\n",
    "    prediction = net(x)\n",
    "\n",
    "    #loss_func(prediction , real_value) \n",
    "    loss = loss_func(prediction , y)\n",
    "\n",
    "    # 先把神經網絡裡面的參數的梯度 -> 0\n",
    "    optimizer.zero_grad()\n",
    "    # 誤差反向傳遞 loss => Variable (傳遞給每個節點這次計算出來的梯度)\n",
    "    loss.backward()\n",
    "    # 透過 optimizer 優化這些梯度\n",
    "    optimizer.step()\n"
   ]
  }
 ],
 "metadata": {
  "kernelspec": {
   "display_name": "Python 3.9.13 ('torch')",
   "language": "python",
   "name": "python3"
  },
  "language_info": {
   "codemirror_mode": {
    "name": "ipython",
    "version": 3
   },
   "file_extension": ".py",
   "mimetype": "text/x-python",
   "name": "python",
   "nbconvert_exporter": "python",
   "pygments_lexer": "ipython3",
   "version": "3.9.13"
  },
  "orig_nbformat": 4,
  "vscode": {
   "interpreter": {
    "hash": "d7ff03e8f717581f4d2be2080033f8219cf68bd655ee8df80f9e504f30ffcd41"
   }
  }
 },
 "nbformat": 4,
 "nbformat_minor": 2
}
