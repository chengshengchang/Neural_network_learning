{
 "cells": [
  {
   "cell_type": "markdown",
   "metadata": {},
   "source": [
    "## Load , save  neural network model \n",
    "\n",
    "    - keep the status of neural network"
   ]
  },
  {
   "cell_type": "markdown",
   "metadata": {},
   "source": [
    "### Import libraries"
   ]
  },
  {
   "cell_type": "code",
   "execution_count": 1,
   "metadata": {},
   "outputs": [],
   "source": [
    "import torch\n",
    "from torch.autograd import Variable\n",
    "import torch.nn.functional as F\n",
    "import matplotlib.pyplot as plt"
   ]
  },
  {
   "cell_type": "markdown",
   "metadata": {},
   "source": [
    "### Setting \n",
    " - 在神經網絡中，參數默認是隨機初始化的，如果不設置的話每次訓練時的初始化都是隨機的，導致結果不確定。如果設置初始化，則每次初始化都是固定的\n"
   ]
  },
  {
   "cell_type": "code",
   "execution_count": null,
   "metadata": {},
   "outputs": [],
   "source": [
    "torch.manual_seed(1) "
   ]
  },
  {
   "cell_type": "markdown",
   "metadata": {},
   "source": [
    "### Main program"
   ]
  },
  {
   "cell_type": "markdown",
   "metadata": {},
   "source": [
    "#### Fake data\n",
    "\n",
    "    - tensor -> Variable"
   ]
  },
  {
   "cell_type": "code",
   "execution_count": 15,
   "metadata": {},
   "outputs": [],
   "source": [
    "x = torch.unsqueeze(torch.linspace(-1,1,100), dim=1)    # x data (tensor) , shape=(100,1)\n",
    "y = x.pow(2) + 0.2*torch.rand(x.size())                 # noisy y data (tensor) , shape=(100,1)\n",
    "\n",
    "x , y = Variable(x , requires_grad = False) , Variable(y , requires_grad = False)\n",
    "\n"
   ]
  },
  {
   "cell_type": "markdown",
   "metadata": {},
   "source": [
    "#### Function for save , restore\n",
    "\n",
    "        - restore entire net\n",
    "\n",
    "        - restore net params (build network framework first !)\n",
    "\n",
    "        - restore params fast than entire net"
   ]
  },
  {
   "cell_type": "code",
   "execution_count": 16,
   "metadata": {},
   "outputs": [],
   "source": [
    "def save():\n",
    "    # save net1\n",
    "    net1 = torch.nn.Sequential(\n",
    "        torch.nn.Linear(1,10),\n",
    "        torch.nn.ReLU(),\n",
    "        torch.nn.Linear(10,1)\n",
    "    )\n",
    "    optimizer = torch.optim.SGD(net1.parameters() , lr=0.5)\n",
    "    loss_func = torch.nn.MSELoss()\n",
    "\n",
    "    for t in range(100):\n",
    "        prediction = net1(x)   \n",
    "        loss = loss_func(prediction , y)\n",
    "        # 梯度歸零\n",
    "        optimizer.zero_grad()\n",
    "        loss.backward()\n",
    "        optimizer.step()\n",
    "\n",
    "    # torch.save(nn , 'name.pkl')\n",
    "    torch.save(net1 , 'net1.pkl')                      # Save entire net\n",
    "    torch.save(net1.state_dict() , 'net1_params.pkl')  # Sace parameters\n",
    "    \n",
    "        \n",
    "\n",
    "\n",
    "def restore_net():\n",
    "    # load entire net\n",
    "    net2 = torch.load('net1.pkl')\n",
    "\n",
    "def restore_params():\n",
    "    # Build Neural network framework before load parameters \n",
    "    net3 = torch.nn.Sequential(\n",
    "        torch.nn.Linear(1,10),\n",
    "        torch.nn.ReLU(),\n",
    "        torch.nn.Linear(10,1)\n",
    "    )\n",
    "    # Load_state_dict\n",
    "    net3.load_state_dict(torch.load('net1_params.pkl'))"
   ]
  },
  {
   "cell_type": "code",
   "execution_count": null,
   "metadata": {},
   "outputs": [],
   "source": [
    "# save net1\n",
    "save()\n",
    "# restore entire net\n",
    "restore_net()\n",
    "# restore parameters\n",
    "restore_params()"
   ]
  }
 ],
 "metadata": {
  "kernelspec": {
   "display_name": "Python 3.9.13 ('torch')",
   "language": "python",
   "name": "python3"
  },
  "language_info": {
   "codemirror_mode": {
    "name": "ipython",
    "version": 3
   },
   "file_extension": ".py",
   "mimetype": "text/x-python",
   "name": "python",
   "nbconvert_exporter": "python",
   "pygments_lexer": "ipython3",
   "version": "3.9.13"
  },
  "orig_nbformat": 4,
  "vscode": {
   "interpreter": {
    "hash": "d7ff03e8f717581f4d2be2080033f8219cf68bd655ee8df80f9e504f30ffcd41"
   }
  }
 },
 "nbformat": 4,
 "nbformat_minor": 2
}
